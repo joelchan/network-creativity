{
 "cells": [
  {
   "cell_type": "code",
   "execution_count": 16,
   "metadata": {
    "collapsed": true
   },
   "outputs": [],
   "source": [
    "import pandas as pd\n",
    "from statsmodels.distributions.empirical_distribution import ECDF\n",
    "import numpy as np\n",
    "import scipy.stats as stats"
   ]
  },
  {
   "cell_type": "code",
   "execution_count": 2,
   "metadata": {
    "collapsed": true
   },
   "outputs": [],
   "source": [
    "a = pd.DataFrame({'id': [1,2,3,4,5], 'edges': [[0.5, 0.2, 0.5, 0.5, 0.12],\n",
    "                                               [0.3, 0.1, 0.1, 0.2, 0.12],\n",
    "                                               [0.5, 0.7, 0.5, 0.8, 0.24],\n",
    "                                               [0.2, 0.2, 0.2, 0.5, 0.6],\n",
    "                                               [0.5, 0.2, 0.4, 0.5, 0.9],\n",
    "                                              ]})"
   ]
  },
  {
   "cell_type": "code",
   "execution_count": 3,
   "metadata": {
    "collapsed": false
   },
   "outputs": [
    {
     "data": {
      "text/html": [
       "<div>\n",
       "<table border=\"1\" class=\"dataframe\">\n",
       "  <thead>\n",
       "    <tr style=\"text-align: right;\">\n",
       "      <th></th>\n",
       "      <th>edges</th>\n",
       "      <th>id</th>\n",
       "    </tr>\n",
       "  </thead>\n",
       "  <tbody>\n",
       "    <tr>\n",
       "      <th>0</th>\n",
       "      <td>[0.5, 0.2, 0.5, 0.5, 0.12]</td>\n",
       "      <td>1</td>\n",
       "    </tr>\n",
       "    <tr>\n",
       "      <th>1</th>\n",
       "      <td>[0.3, 0.1, 0.1, 0.2, 0.12]</td>\n",
       "      <td>2</td>\n",
       "    </tr>\n",
       "    <tr>\n",
       "      <th>2</th>\n",
       "      <td>[0.5, 0.7, 0.5, 0.8, 0.24]</td>\n",
       "      <td>3</td>\n",
       "    </tr>\n",
       "    <tr>\n",
       "      <th>3</th>\n",
       "      <td>[0.2, 0.2, 0.2, 0.5, 0.6]</td>\n",
       "      <td>4</td>\n",
       "    </tr>\n",
       "    <tr>\n",
       "      <th>4</th>\n",
       "      <td>[0.5, 0.2, 0.4, 0.5, 0.9]</td>\n",
       "      <td>5</td>\n",
       "    </tr>\n",
       "  </tbody>\n",
       "</table>\n",
       "</div>"
      ],
      "text/plain": [
       "                        edges  id\n",
       "0  [0.5, 0.2, 0.5, 0.5, 0.12]   1\n",
       "1  [0.3, 0.1, 0.1, 0.2, 0.12]   2\n",
       "2  [0.5, 0.7, 0.5, 0.8, 0.24]   3\n",
       "3   [0.2, 0.2, 0.2, 0.5, 0.6]   4\n",
       "4   [0.5, 0.2, 0.4, 0.5, 0.9]   5"
      ]
     },
     "execution_count": 3,
     "metadata": {},
     "output_type": "execute_result"
    }
   ],
   "source": [
    "a"
   ]
  },
  {
   "cell_type": "code",
   "execution_count": 27,
   "metadata": {
    "collapsed": false
   },
   "outputs": [],
   "source": [
    "a['cdf'] = \"\"\n",
    "buckets = np.linspace(0, 1, 10) \n",
    "prototypical = {}\n",
    "for b in buckets:\n",
    "    prototypical[b] = []\n",
    "for index, idea in a.iterrows():\n",
    "    ecdf = ECDF(idea['edges'])\n",
    "    #edge_set = sorted([x for x in set(idea['edges'])])\n",
    "    this_cdf = []\n",
    "    for b in buckets:\n",
    "        this_cdf.append(ecdf(b))\n",
    "        prototypical[b] += [ecdf(b)]\n",
    "    a.set_value(index, 'cdf', this_cdf)\n",
    "    #print cdf_and_values\n",
    "    #print index"
   ]
  },
  {
   "cell_type": "code",
   "execution_count": 28,
   "metadata": {
    "collapsed": false
   },
   "outputs": [
    {
     "data": {
      "text/html": [
       "<div>\n",
       "<table border=\"1\" class=\"dataframe\">\n",
       "  <thead>\n",
       "    <tr style=\"text-align: right;\">\n",
       "      <th></th>\n",
       "      <th>edges</th>\n",
       "      <th>id</th>\n",
       "      <th>cdf</th>\n",
       "    </tr>\n",
       "  </thead>\n",
       "  <tbody>\n",
       "    <tr>\n",
       "      <th>0</th>\n",
       "      <td>[0.5, 0.2, 0.5, 0.5, 0.12]</td>\n",
       "      <td>1</td>\n",
       "      <td>[0.0, 0.0, 0.4, 0.4, 0.4, 1.0, 1.0, 1.0, 1.0, ...</td>\n",
       "    </tr>\n",
       "    <tr>\n",
       "      <th>1</th>\n",
       "      <td>[0.3, 0.1, 0.1, 0.2, 0.12]</td>\n",
       "      <td>2</td>\n",
       "      <td>[0.0, 0.4, 0.8, 1.0, 1.0, 1.0, 1.0, 1.0, 1.0, ...</td>\n",
       "    </tr>\n",
       "    <tr>\n",
       "      <th>2</th>\n",
       "      <td>[0.5, 0.7, 0.5, 0.8, 0.24]</td>\n",
       "      <td>3</td>\n",
       "      <td>[0.0, 0.0, 0.0, 0.2, 0.2, 0.6, 0.6, 0.8, 1.0, ...</td>\n",
       "    </tr>\n",
       "    <tr>\n",
       "      <th>3</th>\n",
       "      <td>[0.2, 0.2, 0.2, 0.5, 0.6]</td>\n",
       "      <td>4</td>\n",
       "      <td>[0.0, 0.0, 0.6, 0.6, 0.6, 0.8, 1.0, 1.0, 1.0, ...</td>\n",
       "    </tr>\n",
       "    <tr>\n",
       "      <th>4</th>\n",
       "      <td>[0.5, 0.2, 0.4, 0.5, 0.9]</td>\n",
       "      <td>5</td>\n",
       "      <td>[0.0, 0.0, 0.2, 0.2, 0.4, 0.8, 0.8, 0.8, 0.8, ...</td>\n",
       "    </tr>\n",
       "  </tbody>\n",
       "</table>\n",
       "</div>"
      ],
      "text/plain": [
       "                        edges  id  \\\n",
       "0  [0.5, 0.2, 0.5, 0.5, 0.12]   1   \n",
       "1  [0.3, 0.1, 0.1, 0.2, 0.12]   2   \n",
       "2  [0.5, 0.7, 0.5, 0.8, 0.24]   3   \n",
       "3   [0.2, 0.2, 0.2, 0.5, 0.6]   4   \n",
       "4   [0.5, 0.2, 0.4, 0.5, 0.9]   5   \n",
       "\n",
       "                                                 cdf  \n",
       "0  [0.0, 0.0, 0.4, 0.4, 0.4, 1.0, 1.0, 1.0, 1.0, ...  \n",
       "1  [0.0, 0.4, 0.8, 1.0, 1.0, 1.0, 1.0, 1.0, 1.0, ...  \n",
       "2  [0.0, 0.0, 0.0, 0.2, 0.2, 0.6, 0.6, 0.8, 1.0, ...  \n",
       "3  [0.0, 0.0, 0.6, 0.6, 0.6, 0.8, 1.0, 1.0, 1.0, ...  \n",
       "4  [0.0, 0.0, 0.2, 0.2, 0.4, 0.8, 0.8, 0.8, 0.8, ...  "
      ]
     },
     "execution_count": 28,
     "metadata": {},
     "output_type": "execute_result"
    }
   ],
   "source": [
    "a"
   ]
  },
  {
   "cell_type": "code",
   "execution_count": 30,
   "metadata": {
    "collapsed": false
   },
   "outputs": [
    {
     "data": {
      "text/plain": [
       "[0.0,\n",
       " 0.080000000000000002,\n",
       " 0.40000000000000008,\n",
       " 0.48000000000000009,\n",
       " 0.52000000000000002,\n",
       " 0.84000000000000008,\n",
       " 0.88000000000000012,\n",
       " 0.91999999999999993,\n",
       " 0.95999999999999996,\n",
       " 1.0]"
      ]
     },
     "execution_count": 30,
     "metadata": {},
     "output_type": "execute_result"
    }
   ],
   "source": [
    "average_distr = []\n",
    "for b in buckets:\n",
    "    average_distr.append(np.mean(prototypical[b]))\n",
    "average_distr"
   ]
  },
  {
   "cell_type": "code",
   "execution_count": 23,
   "metadata": {
    "collapsed": false
   },
   "outputs": [],
   "source": [
    "b = [1, 2, 3]"
   ]
  },
  {
   "cell_type": "code",
   "execution_count": 24,
   "metadata": {
    "collapsed": true
   },
   "outputs": [],
   "source": [
    "b += [4]"
   ]
  },
  {
   "cell_type": "code",
   "execution_count": 25,
   "metadata": {
    "collapsed": false
   },
   "outputs": [
    {
     "data": {
      "text/plain": [
       "[1, 2, 3, 4]"
      ]
     },
     "execution_count": 25,
     "metadata": {},
     "output_type": "execute_result"
    }
   ],
   "source": [
    "b"
   ]
  },
  {
   "cell_type": "code",
   "execution_count": 33,
   "metadata": {
    "collapsed": false
   },
   "outputs": [
    {
     "name": "stdout",
     "output_type": "stream",
     "text": [
      "0.4\n",
      "0.6\n",
      "0.3\n",
      "0.3\n",
      "0.4\n"
     ]
    }
   ],
   "source": [
    "for x in a['cdf']:\n",
    "    print stats.ks_2samp(average_distr, x)[0]"
   ]
  },
  {
   "cell_type": "code",
   "execution_count": null,
   "metadata": {
    "collapsed": true
   },
   "outputs": [],
   "source": []
  }
 ],
 "metadata": {
  "kernelspec": {
   "display_name": "Python 2",
   "language": "python",
   "name": "python2"
  },
  "language_info": {
   "codemirror_mode": {
    "name": "ipython",
    "version": 2
   },
   "file_extension": ".py",
   "mimetype": "text/x-python",
   "name": "python",
   "nbconvert_exporter": "python",
   "pygments_lexer": "ipython2",
   "version": "2.7.11"
  }
 },
 "nbformat": 4,
 "nbformat_minor": 0
}
